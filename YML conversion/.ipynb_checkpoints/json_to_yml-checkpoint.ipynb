{
 "cells": [
  {
   "cell_type": "code",
   "execution_count": null,
   "metadata": {},
   "outputs": [],
   "source": [
    "import simplejson as json\n",
    "import pyyaml\n",
    "\n",
    "f = open('meta.json', 'r')\n",
    "jsonData = json.load(f)\n",
    "f.close()\n",
    "\n",
    "ff = open('meta.yaml', 'w+')\n",
    "yamlData = {'title':'', 'description':''}\n",
    "yamlData['title'] = jsonData['main']['title']\n",
    "yamlData['description'] = jsonData['main']['description']\n",
    "yaml.dump(yamlData, ff, allow_unicode=True)\n"
   ]
  }
 ],
 "metadata": {
  "kernelspec": {
   "display_name": "Python 3",
   "language": "python",
   "name": "python3"
  },
  "language_info": {
   "codemirror_mode": {
    "name": "ipython",
    "version": 3
   },
   "file_extension": ".py",
   "mimetype": "text/x-python",
   "name": "python",
   "nbconvert_exporter": "python",
   "pygments_lexer": "ipython3",
   "version": "3.7.4"
  }
 },
 "nbformat": 4,
 "nbformat_minor": 2
}
