{
 "cells": [
  {
   "cell_type": "code",
   "execution_count": 11,
   "metadata": {},
   "outputs": [],
   "source": [
    "import simplejson as json\n",
    "import yaml\n",
    "\n",
    "f = open('meta.json', 'r')\n",
    "jsonData = json.load(f)\n",
    "f.close()\n",
    "\n",
    "ff = open('meta.yaml', 'w+')\n",
    "yamlData = {'conversations':''}\n",
    "yamlData['conversations'] = jsonData['conversations']\n",
    "yaml.dump(yamlData, ff, allow_unicode=True)\n"
   ]
  }
 ],
 "metadata": {
  "kernelspec": {
   "display_name": "Python 3",
   "language": "python",
   "name": "python3"
  },
  "language_info": {
   "codemirror_mode": {
    "name": "ipython",
    "version": 3
   },
   "file_extension": ".py",
   "mimetype": "text/x-python",
   "name": "python",
   "nbconvert_exporter": "python",
   "pygments_lexer": "ipython3",
   "version": "3.7.4"
  }
 },
 "nbformat": 4,
 "nbformat_minor": 2
}
